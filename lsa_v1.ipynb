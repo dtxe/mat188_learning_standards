{
 "cells": [
  {
   "cell_type": "markdown",
   "metadata": {},
   "source": [
    "# Learning Standards Analysis\n",
    "\n",
    "** ! this notebook file may confidential information, clear all outputs before making public ! **\n",
    "\n",
    "Simeon Wong  \n",
    "MAT188 2023F at the University of Toronto"
   ]
  },
  {
   "cell_type": "code",
   "execution_count": null,
   "metadata": {},
   "outputs": [],
   "source": [
    "import pandas as pd\n",
    "import statsmodels.api as sm\n",
    "import statsmodels.formula.api as smf\n",
    "import numpy as np\n",
    "import wwparse"
   ]
  },
  {
   "cell_type": "code",
   "execution_count": null,
   "metadata": {},
   "outputs": [],
   "source": [
    "# import webwork learning standards\n",
    "lsref = pd.read_csv('webwork_learning_standards.csv')\n",
    "\n",
    "# parse webwork data\n",
    "scores = wwparse.parse_html('mat188-2023f-ww1.html', save_csv=False)\n",
    "\n",
    "# merge webwork data with learning standards\n",
    "scores = pd.merge(scores, lsref, how='left', on=['webwork_set', 'problem_num'])\n",
    "\n",
    "###\n",
    "# other preprocessing for convenience\n",
    "scores['correct'] = scores['score'] > 75\n",
    "\n",
    "# extract skill\n",
    "scores['skill'] = scores['standard'].str.split('-').str[1]\n",
    "scores['skill'] = scores['skill'].astype('category')\n",
    "\n",
    "# drop students who did not attempt the problem at all\n",
    "scores.dropna(subset=['score'], inplace=True)\n",
    "###\n",
    "\n",
    "# preview\n",
    "scores.head()"
   ]
  },
  {
   "cell_type": "code",
   "execution_count": null,
   "metadata": {},
   "outputs": [],
   "source": [
    "# how many problems are students getting correct within each learning standard?\n",
    "scores['correct'] = scores['score'] > 75\n",
    "scores.groupby(['login_name', 'standard'])['correct'].sum().reset_index()"
   ]
  },
  {
   "cell_type": "code",
   "execution_count": null,
   "metadata": {},
   "outputs": [],
   "source": [
    "# mean score by learning standard\n",
    "scores.groupby('standard')['score'].mean().reset_index()"
   ]
  },
  {
   "cell_type": "code",
   "execution_count": null,
   "metadata": {},
   "outputs": [],
   "source": [
    "# are students taking more attempts (performing worse) in one skill vs the others?\n",
    "smf.mixedlm('n_incor ~ skill', scores, groups=scores['login_name']).fit().summary()"
   ]
  }
 ],
 "metadata": {
  "kernelspec": {
   "display_name": "base",
   "language": "python",
   "name": "python3"
  },
  "language_info": {
   "codemirror_mode": {
    "name": "ipython",
    "version": 3
   },
   "file_extension": ".py",
   "mimetype": "text/x-python",
   "name": "python",
   "nbconvert_exporter": "python",
   "pygments_lexer": "ipython3",
   "version": "3.10.9"
  }
 },
 "nbformat": 4,
 "nbformat_minor": 2
}
